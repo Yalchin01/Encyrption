{
  "nbformat": 4,
  "nbformat_minor": 0,
  "metadata": {
    "colab": {
      "name": "Encyrption.ipynb",
      "provenance": [],
      "collapsed_sections": [],
      "authorship_tag": "ABX9TyPU/7rSqGm11U/ysarFxmSI"
    },
    "kernelspec": {
      "name": "python3",
      "display_name": "Python 3"
    },
    "language_info": {
      "name": "python"
    }
  },
  "cells": [
    {
      "cell_type": "markdown",
      "source": [
        "# **Encryption** \n",
        "In this notebook I'm going to write a code where you enter a text and in the endnevery letter of text changes to the one next to it in Alphabet(except 'z' which will be changed to 'a')."
      ],
      "metadata": {
        "id": "iC0eJR3QSQD5"
      }
    },
    {
      "cell_type": "markdown",
      "source": [
        "Overall, to give an insight:\n",
        "1. I make a list of Azerbaijani alphabet letters and then find Unicode decimals of them (number list)\n",
        "2. Write a code where it asks user to enter a text\n",
        "3. Write a code where it converts every character of a text, including space and symbols, into Unicode decimals and show indices in index1 list based on number list\n",
        "4. Convert these indices (and those number in form of string) into appropriate Unicode symbols \n",
        "5. Make a text from list of Unicode Symbols"
      ],
      "metadata": {
        "id": "XnlCwVu3S06J"
      }
    },
    {
      "cell_type": "code",
      "source": [
        "alphabet = ['a', 'b', 'c', 'ç', 'd', 'e', 'ə', 'f', 'g', 'ğ', 'h', 'x', 'ı', 'i', 'j', 'k', 'q', 'l', 'm', 'n', 'o', 'ö', 'p', 'r', 's', 'ş', 't', 'u', 'ü', 'v', 'y', 'z']"
      ],
      "metadata": {
        "id": "iqledLjrfgXr"
      },
      "execution_count": 175,
      "outputs": []
    },
    {
      "cell_type": "code",
      "source": [
        "#unicode numbers\n",
        "number = []\n",
        "for n in alphabet:\n",
        "  number.append((ord(n)))"
      ],
      "metadata": {
        "id": "5o5NbQP5cK9y"
      },
      "execution_count": 176,
      "outputs": []
    },
    {
      "cell_type": "code",
      "source": [
        "print(number)"
      ],
      "metadata": {
        "colab": {
          "base_uri": "https://localhost:8080/"
        },
        "id": "ctJJqXnGftjM",
        "outputId": "4c5ea4bb-d306-4d0e-c548-1f243982b350"
      },
      "execution_count": 177,
      "outputs": [
        {
          "output_type": "stream",
          "name": "stdout",
          "text": [
            "[97, 98, 99, 231, 100, 101, 601, 102, 103, 287, 104, 120, 305, 105, 106, 107, 113, 108, 109, 110, 111, 246, 112, 114, 115, 351, 116, 117, 252, 118, 121, 122]\n"
          ]
        }
      ]
    },
    {
      "cell_type": "code",
      "source": [
        "text = str(input('Enter your text: '))"
      ],
      "metadata": {
        "colab": {
          "base_uri": "https://localhost:8080/"
        },
        "id": "PMNaHrIaE74W",
        "outputId": "176c437b-a8b3-4229-9e73-f19a1a6d273b"
      },
      "execution_count": 178,
      "outputs": [
        {
          "name": "stdout",
          "output_type": "stream",
          "text": [
            "Enter your text: ümid edirəm ki, kod duzgun formada yazılıb!\n"
          ]
        }
      ]
    },
    {
      "cell_type": "code",
      "source": [
        "index1 = []\n",
        "for ch in text:\n",
        "  if ch == 'z':\n",
        "    index1.append(alphabet.index('a'))\n",
        "  else:\n",
        "    if ord(ch) in number:\n",
        "      index1.append(alphabet.index(ch) + 1)\n",
        "    else:\n",
        "      index1.append(str(ord(ch)))\n",
        "#I add 1 to index numbers to find letter right after that later\n",
        "#the reason here why I wrote other symbols in string is beacuse of following code where I don't want them to mix up with indices of letters"
      ],
      "metadata": {
        "id": "FmFI5NMnjqT0"
      },
      "execution_count": 179,
      "outputs": []
    },
    {
      "cell_type": "code",
      "source": [
        "print(index1)"
      ],
      "metadata": {
        "colab": {
          "base_uri": "https://localhost:8080/"
        },
        "id": "bMNGF2QLjqPZ",
        "outputId": "4785a23a-e8f4-4b8c-e689-3be3704f7de2"
      },
      "execution_count": 180,
      "outputs": [
        {
          "output_type": "stream",
          "name": "stdout",
          "text": [
            "[29, 19, 14, 5, '32', 6, 5, 14, 24, 7, 19, '32', 16, 14, '44', '32', 16, 21, 5, '32', 5, 28, 0, 9, 28, 20, '32', 8, 21, 24, 19, 1, 5, 1, '32', 31, 1, 0, 13, 18, 13, 2, '33']\n"
          ]
        }
      ]
    },
    {
      "cell_type": "code",
      "source": [
        "#here I'll make list of letters, finding them by indices in given alphabet list, if it's integer that means it is index of letter and it will find matching letter, whereas\n",
        "#if it is string, then that means it's Unicode decimal of other symbols, so we have to find matching symbol so we don't miss them in results\n",
        "newtext = []\n",
        "for t in index1:\n",
        "  if type(t) == int:\n",
        "    newtext.append(alphabet[t])\n",
        "  else:\n",
        "    newtext.append(chr(int(t)))\n"
      ],
      "metadata": {
        "id": "mK_HxBJXjqLm"
      },
      "execution_count": 181,
      "outputs": []
    },
    {
      "cell_type": "code",
      "source": [
        "print(newtext)"
      ],
      "metadata": {
        "colab": {
          "base_uri": "https://localhost:8080/"
        },
        "id": "_DwRzuOejqIE",
        "outputId": "c0037c7e-0514-47f6-d37f-3d8754940542"
      },
      "execution_count": 182,
      "outputs": [
        {
          "output_type": "stream",
          "name": "stdout",
          "text": [
            "['v', 'n', 'j', 'e', ' ', 'ə', 'e', 'j', 's', 'f', 'n', ' ', 'q', 'j', ',', ' ', 'q', 'ö', 'e', ' ', 'e', 'ü', 'a', 'ğ', 'ü', 'o', ' ', 'g', 'ö', 's', 'n', 'b', 'e', 'b', ' ', 'z', 'b', 'a', 'i', 'm', 'i', 'c', '!']\n"
          ]
        }
      ]
    },
    {
      "cell_type": "code",
      "source": [
        "#this is to make it to look like string text rahter than just list\n",
        "str1 = ''\n",
        "for st in newtext:\n",
        "  str1+=st"
      ],
      "metadata": {
        "id": "5TUb7P_UplBh"
      },
      "execution_count": 183,
      "outputs": []
    },
    {
      "cell_type": "code",
      "source": [
        "#let's print our encyrpted string\n",
        "print(str1)"
      ],
      "metadata": {
        "colab": {
          "base_uri": "https://localhost:8080/"
        },
        "id": "o8QqhmJepp0K",
        "outputId": "62b970a9-461a-48a4-f098-824e550c3448"
      },
      "execution_count": 184,
      "outputs": [
        {
          "output_type": "stream",
          "name": "stdout",
          "text": [
            "vnje əejsfn qj, qöe eüağüo gösnbeb zbaimic!\n"
          ]
        }
      ]
    },
    {
      "cell_type": "code",
      "source": [
        ""
      ],
      "metadata": {
        "id": "lIwuYscMO06d"
      },
      "execution_count": null,
      "outputs": []
    }
  ]
}